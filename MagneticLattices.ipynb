{
 "cells": [
  {
   "cell_type": "markdown",
   "id": "59027812-8512-4ef0-814d-2ba849b7a428",
   "metadata": {},
   "source": [
    "# Example Proxy Simulations\n"
   ]
  },
  {
   "cell_type": "code",
   "execution_count": 1,
   "id": "7577458a-97b6-4dd1-b848-46c0f2c283fc",
   "metadata": {
    "tags": []
   },
   "outputs": [],
   "source": [
    "import networkx as nx\n",
    "import matplotlib.pyplot as plt\n",
    "import pandas as pd\n",
    "import numpy as np\n",
    "import random\n",
    "import time\n",
    "import sys\n",
    "import os\n",
    "import openfermion\n",
    "from openfermion.circuits import trotter\n",
    "import re"
   ]
  },
  {
   "cell_type": "code",
   "execution_count": 2,
   "id": "e8f2a807-f99c-42b1-8aac-6bb4646dc007",
   "metadata": {
    "tags": []
   },
   "outputs": [],
   "source": [
    "###\n",
    "### Imports to support the pyQSP Gate-Based Hamiltonian simulation\n",
    "###\n",
    "import cirq\n",
    "from cirq.contrib.svg import SVGCircuit\n",
    "from cirq.contrib     import qasm_import\n",
    "\n",
    "import pyLIQTR.QSP.gen_qsp                 as qspFuncs\n",
    "import pyLIQTR.QSP.QSP                     as pQSP\n",
    "\n",
    "from pyLIQTR.QSP.Hamiltonian             import Hamiltonian as pyH\n",
    "from pyLIQTR.QSP.qsp_helpers             import qsp_decompose_once, print_to_openqasm, prettyprint_qsp_to_qasm # these should move to a utils.\n",
    "from pyLIQTR.gate_decomp.cirq_transforms import clifford_plus_t_direct_transform\n",
    "from pyLIQTR.utils.utils                 import count_T_gates, open_fermion_to_qasm\n"
   ]
  },
  {
   "cell_type": "code",
   "execution_count": 3,
   "id": "6dd69d4a-3d3b-4a7f-aeaf-2affa530e3e3",
   "metadata": {
    "tags": []
   },
   "outputs": [],
   "source": [
    "##defining helper functions\n",
    "def get_T_depth_wire(cpt_circuit):\n",
    "    #maximum number of T-gates on a wire.  This may be more optimistic than\n",
    "    #number of layers with T-gates.  Perhaps good to treat as lower bound\n",
    "    #for an implementation\n",
    "    count_dict = dict()\n",
    "    for moment in cpt_circuit:\n",
    "        for operator in moment:\n",
    "            opstr = str(operator)\n",
    "            if opstr[0] == 'T':\n",
    "                reg_label = opstr[opstr.find(\"(\")+1:opstr.find(\")\")]\n",
    "                if not reg_label in count_dict:\n",
    "                    count_dict[reg_label] = 1\n",
    "                else:\n",
    "                    count_dict[reg_label] += 1\n",
    "    max_depth=0\n",
    "    for register in count_dict:\n",
    "        if count_dict[register] > max_depth:\n",
    "            max_depth = count_dict[register]\n",
    "    return max_depth\n",
    "\n",
    "def get_T_depth(cpt_circuit):\n",
    "    t_depth = 0\n",
    "    for moment in cpt_circuit:\n",
    "        for operator in moment:\n",
    "            opstr = str(operator)\n",
    "            if opstr[0] == 'T':\n",
    "                t_depth += 1\n",
    "                break\n",
    "    return t_depth\n",
    "\n",
    "def plot_T_step_histogram(cpt_circuit, lowest_ind=0, **kwargs):\n",
    "    t_widths = [0] * (len(cpt_circuit))\n",
    "    for (i, moment) in enumerate(cpt_circuit):\n",
    "        width = 0\n",
    "        for operator in moment:\n",
    "            opstr = str(operator)\n",
    "            if opstr[0] == 'T':\n",
    "                width += 1\n",
    "        t_widths[i] = width\n",
    "    bins = range(max(t_widths))\n",
    "    histogram = plt.hist(t_widths, bins[lowest_ind:-1], **kwargs)\n",
    "    return histogram\n",
    "    \n",
    "def count_gates(cpt_circuit):\n",
    "    count = 0\n",
    "    for moment in cpt_circuit:\n",
    "        for operator in moment:\n",
    "            count += 1\n",
    "    return count\n",
    "\n",
    "def pyliqtr_hamiltonian_to_openfermion_qubit_operator(H):\n",
    "    open_fermion_operator = openfermion.QubitOperator()\n",
    "    for term in H.terms:\n",
    "        open_fermion_term = \"\"\n",
    "        for (i,pauli) in enumerate(term[0]):\n",
    "            if not pauli == 'I':\n",
    "                open_fermion_term = open_fermion_term + pauli + str(i) + \" \"\n",
    "        open_fermion_term_op = openfermion.QubitOperator(open_fermion_term)\n",
    "        if not open_fermion_term == \"\":\n",
    "            open_fermion_operator += term[1] * open_fermion_term_op\n",
    "    return open_fermion_operator"
   ]
  },
  {
   "cell_type": "markdown",
   "id": "b379daf8-0a6a-401d-83e5-da546ddeb08f",
   "metadata": {},
   "source": [
    "# Basic examples\n",
    "This notebook outlines the construction of Hamiltonians which are not inherently useful\n",
    "on their own, but are of a similar form to what we expect for the most basic\n",
    "simulations where a quantum computer may be useful. This version is a working version and\n",
    "will likely be updated later to include more application relevant examples.  The dynamic\n",
    "simulation of these Hamiltonians can be thought of as a necessary but not sufficient\n",
    "condition for demonstrating the viability of a quantum computer as a useful tool for \n",
    "quanutm dynamic simulation.\n",
    "\n",
    "Note that running this entire notebook should take on the order of an hour.\n",
    "To see smaller cases, simply reduce the sizes of the lattices for the various Hamiltonians.\n",
    "\n",
    "## Basic Hamiltonian\n",
    "In this section we consider the time independent transverse field Ising Hamiltonians represented by graphs\n",
    "with a lattice structure. There are more complicated models which would likely\n",
    "be interesting to simulate, but as an initial pass we start by considering two models\n",
    "* 32x32 Triangular Lattice (1024 spins, 2 dimensions) with antiferromagnetic unit couplings\n",
    "* 12x12x12 Cubic Lattice (1728 spins, 3 dimensions) with random unit couplings\n",
    "The transverse field Ising Hamiltonian for a lattice graph, $G = (V,E)$ is as follows:\n",
    "\n",
    "\\begin{equation}\n",
    "H = \\sum_{i \\in V} \\Gamma_{i}\\sigma_{i}^{x} + \\sum_{i \\in V} h_{i} \\sigma_{i}^{z} + \\sum_{(i,j) \\in E} J_{i,j} \\sigma_{i}^{z} \\sigma_{j}^{z}\n",
    "\\end{equation}\n",
    "Note that in the instances presented here, we do not consider local longitudinal field terms ($\\boldsymbol{h}=0$), though this may not always be the case.\n",
    "We also do not consider in this example the state preparation circuit that may be required as that is heavily application dependent.\n",
    "For the purposes of these initial experiments, we can assume that the initial state is an eigenstate of either the $X$ or $Z$ basis since the preparation circuits for these have $O(1)$ depth.\n",
    "\n",
    "To be clear, the dynamic simulations mean simulating the Schrodinger Equation\n",
    "\\begin{equation}\n",
    "i \\hbar \\frac{\\partial}{\\partial t}|\\psi(t)\\rangle = H |\\psi(t)\\rangle\n",
    "\\end{equation}\n",
    "with solution\n",
    "\\begin{equation}\n",
    "|\\psi(t)\\rangle = e^{-\\frac{i}{\\hbar}H t}|\\psi(0)\\rangle\n",
    "\\end{equation}\n",
    "\n",
    "A subgraph of each lattice is plotted below to clarify the graph structure to clarify the graph structure.\n"
   ]
  },
  {
   "cell_type": "code",
   "execution_count": 4,
   "id": "135cff57-3f16-4f02-8813-0cce625facb4",
   "metadata": {
    "tags": []
   },
   "outputs": [],
   "source": [
    "t_initial = time.perf_counter()"
   ]
  },
  {
   "cell_type": "code",
   "execution_count": 5,
   "id": "7f64c2b4-4e50-496c-ada6-1d1bdb20a5af",
   "metadata": {
    "tags": []
   },
   "outputs": [
    {
     "data": {
      "image/png": "[encoded data removed]",
      "text/plain": [
       "<Figure size 432x288 with 1 Axes>"
      ]
     },
     "metadata": {},
     "output_type": "display_data"
    }
   ],
   "source": [
    "#a triangle lattice which can be embedded on a square can be constructed\n",
    "#by making a square lattice then adding an edge across the diagonal\n",
    "#of each square\n",
    "def nx_triangle_lattice(lattice_size):\n",
    "    g = nx.generators.lattice.grid_2d_graph(lattice_size,lattice_size)\n",
    "    for i in range(lattice_size - 1):\n",
    "        for j in range(lattice_size - 1):\n",
    "            g.add_edge((i,j),(i+1,j+1))\n",
    "    return g\n",
    "\n",
    "test_lattice_size=3\n",
    "g_square = nx.grid_graph(dim = (test_lattice_size, test_lattice_size))\n",
    "g_triangle = nx_triangle_lattice(test_lattice_size)\n",
    "g_cube = nx.generators.grid_graph(dim = (test_lattice_size,test_lattice_size,test_lattice_size))\n",
    "nx.draw(g_square)"
   ]
  },
  {
   "cell_type": "code",
   "execution_count": 6,
   "id": "45627e28-6870-4363-8491-3317e03f2027",
   "metadata": {
    "tags": []
   },
   "outputs": [
    {
     "data": {
      "image/png": "[encoded data removed]",
      "text/plain": [
       "<Figure size 432x288 with 1 Axes>"
      ]
     },
     "metadata": {},
     "output_type": "display_data"
    }
   ],
   "source": [
    "nx.draw(g_triangle)"
   ]
  },
  {
   "cell_type": "code",
   "execution_count": 7,
   "id": "347ef393-084a-4fff-9e75-aff5eda6d514",
   "metadata": {
    "tags": []
   },
   "outputs": [
    {
     "data": {
      "image/png": "[encoded data removed]",
      "text/plain": [
       "<Figure size 432x288 with 1 Axes>"
      ]
     },
     "metadata": {},
     "output_type": "display_data"
    }
   ],
   "source": [
    "nx.draw(g_cube)"
   ]
  },
  {
   "cell_type": "markdown",
   "id": "9ec84065-0d56-4d2a-95a4-e5232ac91777",
   "metadata": {},
   "source": [
    "Now that we have an idea of what our Hamiltonians look like, we can begin generating them in a form accepted by pyLIQTR."
   ]
  },
  {
   "cell_type": "code",
   "execution_count": 8,
   "id": "3138ec14-981d-48fe-8302-0dc18de33df3",
   "metadata": {
    "tags": []
   },
   "outputs": [],
   "source": [
    "###defining helper functions for Hamiltonian string generation\n",
    "\n",
    "#given a networkx graph g, construct a hamiltonian with random weights\n",
    "#which can be processed by pyLIQTR\n",
    "def nx_longitudinal_ising_terms(g,p,magnitude=1):\n",
    "    H_longitudinal = []\n",
    "    n = len(g.nodes)\n",
    "    for (n1,n2) in g.edges:\n",
    "        weight = magnitude if random.random() < p else -magnitude\n",
    "        string = n*'I' \n",
    "        for i in range(len(g)):\n",
    "            if i == n1 or i == n2:\n",
    "                string = string[:i] + 'Z' + string[i+1:]\n",
    "            else:\n",
    "                pass\n",
    "        H_longitudinal.append((string,weight))\n",
    "    return H_longitudinal\n",
    "\n",
    "def nx_transverse_ising_terms(g,p,magnitude=0.1):\n",
    "    H_transverse = []\n",
    "    n = len(g)\n",
    "    for i in range(n):\n",
    "        w = magnitude if random.random() < p else -magnitude\n",
    "        string = n*'I'\n",
    "        for k in range(n):\n",
    "            if i == k:\n",
    "                string = string[:i] + 'X' + string[i+1:]\n",
    "            else:\n",
    "                pass\n",
    "        H_transverse.append((string, w))\n",
    "    return H_transverse\n",
    "\n",
    "def flatten_nx_graph(g):\n",
    "    new_ids = {}\n",
    "    count = 0\n",
    "    for node in g.nodes:\n",
    "        if node in new_ids:\n",
    "            pass\n",
    "        else:\n",
    "            new_ids[node] = count\n",
    "            count = count + 1\n",
    "    new_g = nx.relabel_nodes(g, new_ids)\n",
    "    return new_g\n",
    "\n",
    "def generate_square_hamiltonian(lattice_size, longitudinal_weight_prob=0.5, transverse_weight_prob=1):\n",
    "    g = nx.grid_graph(dim=(lattice_size,lattice_size))\n",
    "    g = flatten_nx_graph(g)\n",
    "    H_transverse = nx_transverse_ising_terms(g, transverse_weight_prob)\n",
    "    H_longitudinal = nx_longitudinal_ising_terms(g, longitudinal_weight_prob)\n",
    "    return H_transverse, H_longitudinal\n",
    "\n",
    "def generate_triangular_hamiltonian(lattice_size, longitudinal_weight_prob=1, transverse_weight_prob=1):\n",
    "    g = nx_triangle_lattice(lattice_size)\n",
    "    g = flatten_nx_graph(g)\n",
    "    H_transverse = nx_transverse_ising_terms(g, transverse_weight_prob)\n",
    "    H_longitudinal = nx_longitudinal_ising_terms(g, longitudinal_weight_prob)\n",
    "    return H_transverse, H_longitudinal\n",
    "\n",
    "def generate_cubic_hamiltonian(lattice_size, longitudinal_weight_prob=0.5, transverse_weight_prob=1):\n",
    "    g = nx.grid_graph(dim=(lattice_size,lattice_size,lattice_size))\n",
    "    g = flatten_nx_graph(g)\n",
    "    H_transverse = nx_transverse_ising_terms(g, transverse_weight_prob)\n",
    "    H_longitudinal = nx_longitudinal_ising_terms(g, longitudinal_weight_prob)\n",
    "    return H_transverse, H_longitudinal\n",
    "\n",
    "def estimate_qsp(pyliqtr_hamiltonian, timesteps, energy_precision, outdir, hamiltonian_name=\"hamiltonian\", write_circuits=False):\n",
    "    timestep_of_interest=1 #for magnus like argument\n",
    "    angles, tolerances = qspFuncs.compute_hamiltonian_angles(pyliqtr_hamiltonian, simtime=timestep_of_interest, req_prec=energy_precision)\n",
    "    qsp_generator = pQSP.QSP(phis=angles, hamiltonian=pyliqtr_hamiltonian, target_size=pyliqtr_hamiltonian.problem_size)\n",
    "    qsp_circuit = qsp_generator.circuit()\n",
    "    \n",
    "    if not os.path.exists(outdir):\n",
    "        os.makedirs(outdir)\n",
    "    \n",
    "    subcircuit_counts = dict()\n",
    "    t_counts = dict()\n",
    "    t_depths = dict()\n",
    "    t_depth_wires = dict()\n",
    "    clifford_counts = dict()\n",
    "    gate_counts = dict()\n",
    "    subcircuit_depths = dict()\n",
    "    \n",
    "    outfile_qasm_high_level = outdir + hamiltonian_name + \"_high_level.qasm\"\n",
    "    outfile_data = outdir + hamiltonian_name + \"_high_level.dat\"\n",
    "    \n",
    "    for moment in qsp_circuit:\n",
    "        for operation in moment:\n",
    "            gate_type = type(operation.gate)\n",
    "            if gate_type in subcircuit_counts:\n",
    "                subcircuit_counts[gate_type] += 1\n",
    "            \n",
    "            else:\n",
    "                outfile_qasm_decomposed = outdir+str(gate_type)[8:-2]+\".decomposed.qasm\"\n",
    "                outfile_qasm_cpt = outdir+str(gate_type)[8:-2]+\".cpt.qasm\"\n",
    "                \n",
    "                decomposed_circuit = qsp_decompose_once(qsp_decompose_once(cirq.Circuit(operation)))\n",
    "                cpt_circuit = clifford_plus_t_direct_transform(decomposed_circuit)\n",
    "                \n",
    "                if write_circuits:\n",
    "                    with open(outfile_qasm_decomposed, 'w') as f:\n",
    "                        print_to_openqasm(f, decomposed_circuit, qubits=decomposed_circuit.all_qubits())\n",
    "                    \n",
    "                    with open(outfile_qasm_cpt, 'w') as f:\n",
    "                        print_to_openqasm(f, cpt_circuit, qubits=cpt_circuit.all_qubits())\n",
    "                \n",
    "                subcircuit_counts[gate_type] = 1\n",
    "                subcircuit_depths[gate_type] = len(cpt_circuit)\n",
    "                t_counts[gate_type] = count_T_gates(cpt_circuit)\n",
    "                gate_counts[gate_type] = count_gates(cpt_circuit)\n",
    "                t_depths[gate_type] = get_T_depth(cpt_circuit)\n",
    "                t_depth_wires[gate_type] = get_T_depth_wire(cpt_circuit)\n",
    "                clifford_counts[gate_type] = gate_counts[gate_type] - t_counts[gate_type]\n",
    "                \n",
    "    total_gate_count = 0\n",
    "    total_gate_depth = 0\n",
    "    total_T_depth = 0\n",
    "    total_T_depth_wire = 0\n",
    "    total_T_count = 0\n",
    "    total_clifford_count = 0\n",
    "    for gate in subcircuit_counts:\n",
    "        total_gate_count += subcircuit_counts[gate] * gate_counts[gate] * timesteps / timestep_of_interest\n",
    "        total_gate_depth += subcircuit_counts[gate] * subcircuit_depths[gate] * timesteps / timestep_of_interest\n",
    "        total_T_depth += subcircuit_counts[gate] * t_depths[gate] * timesteps / timestep_of_interest\n",
    "        total_T_depth_wire += subcircuit_counts[gate] * t_depth_wires[gate] * timesteps / timestep_of_interest\n",
    "        total_T_count += subcircuit_counts[gate] * t_counts[gate] * timesteps / timestep_of_interest\n",
    "        total_clifford_count += subcircuit_counts[gate] * clifford_counts[gate] * timesteps / timestep_of_interest\n",
    "    with open(outfile_data, 'w') as f:\n",
    "        total_gate_count \n",
    "        f.write(str(\"Logical Qubit Count:\"+str(len(qsp_circuit.all_qubits()))+\"\\n\"))\n",
    "        f.write(str(\"Total Gate Count:\"+str(total_gate_count)+\"\\n\"))\n",
    "        f.write(str(\"Total Gate Depth:\"+str(total_gate_depth)+\"\\n\"))\n",
    "        f.write(str(\"Total T Count:\"+str(total_T_count)+\"\\n\"))\n",
    "        f.write(str(\"Total T Depth:\"+str(total_T_depth)+\"\\n\"))\n",
    "        f.write(str(\"Maximum T Count on Single Wire:\"+str(total_T_depth_wire)+\"\\n\"))\n",
    "        f.write(str(\"Total Clifford Count:\"+str(total_clifford_count)+\"\\n\"))\n",
    "        f.write(\"Subcircuit Info:\\n\")\n",
    "        for gate in subcircuit_counts:\n",
    "            f.write(str(str(gate)+\"\\n\"))\n",
    "            f.write(str(\"Subcircuit Occurrences:\"+str(subcircuit_counts[gate]*timesteps)+\"\\n\"))\n",
    "            f.write(str(\"Gate Count:\"+str(gate_counts[gate])+\"\\n\"))\n",
    "            f.write(str(\"Gate Depth:\"+str(subcircuit_depths[gate])+\"\\n\"))\n",
    "            f.write(str(\"T Count:\"+str(t_counts[gate])+\"\\n\"))\n",
    "            f.write(str(\"T Depth:\"+str(t_depths[gate])+\"\\n\"))\n",
    "            f.write(str(\"Maximum T Count on a Single Wire:\"+str(t_depth_wires[gate])+\"\\n\"))\n",
    "            f.write(str(\"Clifford Count:\"+str(clifford_counts[gate])+\"\\n\"))\n",
    "    return qsp_circuit"
   ]
  },
  {
   "cell_type": "code",
   "execution_count": 9,
   "id": "8a6e1a51-7c17-40e8-aa8f-9e9f1e517358",
   "metadata": {
    "tags": []
   },
   "outputs": [],
   "source": [
    "##initializing seed for consistent results for the cubic lattice and generating Hamiltonians\n",
    "random.seed(0)\n",
    "np.random.seed(0)\n",
    "square_lattice_size=10\n",
    "triangle_lattice_size=32\n",
    "cubic_lattice_size=12\n",
    "test_lattice_size=3\n",
    "\n",
    "square_hamiltonian = generate_square_hamiltonian(square_lattice_size)\n",
    "triangular_hamiltonian = generate_triangular_hamiltonian(triangle_lattice_size)\n",
    "cubic_hamiltonian = generate_cubic_hamiltonian(cubic_lattice_size)\n",
    "#square_hamiltonian = generate_square_hamiltonian(test_lattice_size)\n",
    "#triangular_hamiltonian = generate_triangular_hamiltonian(test_lattice_size)\n",
    "#cubic_hamiltonian = generate_cubic_hamiltonian(test_lattice_size)"
   ]
  },
  {
   "cell_type": "markdown",
   "id": "616d328e-14d9-4ed5-ade8-964b7e2f72d9",
   "metadata": {},
   "source": [
    "Now that we have generated our Hamiltonians, we can start generating the circuits for a preferred dynamic simulation method (e.g., QSP, Trotter 4th order, ...).  Shown below is QSP."
   ]
  },
  {
   "cell_type": "code",
   "execution_count": 10,
   "id": "c3653189-c665-408b-840f-f5994a5ed51e",
   "metadata": {
    "tags": []
   },
   "outputs": [],
   "source": [
    "timesteps=1000\n",
    "required_precision = 1e-16"
   ]
  },
  {
   "cell_type": "code",
   "execution_count": 11,
   "id": "13809189-52c3-46e2-a8d9-fedb0643c58b",
   "metadata": {
    "tags": []
   },
   "outputs": [],
   "source": [
    "#feeding square Hamiltonian to PyLIQTR for circuit generation\n",
    "H_square = pyH(square_hamiltonian[0] + square_hamiltonian[1])\n",
    "H_triangle = pyH(triangular_hamiltonian[0] + triangular_hamiltonian[1])\n",
    "H_cube = pyH(cubic_hamiltonian[0] + cubic_hamiltonian[1])"
   ]
  },
  {
   "cell_type": "markdown",
   "id": "6c3aa727-7273-46f6-a2d2-2fef9526ca9e",
   "metadata": {},
   "source": [
    "Now we need to extract resource estimates for each of the subcircuits of the high level circuit.  The information which we are interested in is as follows:\n",
    "* Total gate count for full circuit\n",
    "* Total depth for full circuit\n",
    "* Decomposed QASM circuit for each subcircuit\n",
    "* Clifford + T circuits for each subcircuit\n",
    "* Total T gate count for each subcircuit\n",
    "* Total Clifford count for each subcircuit\n",
    "* T gate depth for each subcircuit\n",
    "\n",
    "This information can be extracted by obtaining the information for each subcircuit and multiplying by the number of repetitions of the subcircuits.  In this\n",
    "notebook, we show the process for both QSP and second order Suzuki-Trotter, though this process could likely be generalized to many quantum algorithms.\n",
    "It should be noted that the approach shown here provides a slight over-estimation since it assumes that each of the subcircuits operate in serial.  This\n",
    "assumption is valid for both QSP and second order Suzuki-Trotter since the operations which consume the bulk of the circuit volume do operate in serial\n",
    "(Select and Reflect Operations and Trotter steps respectively)."
   ]
  },
  {
   "cell_type": "code",
   "execution_count": 12,
   "id": "0539e963-7921-4c81-926d-8bb281a386a8",
   "metadata": {
    "tags": []
   },
   "outputs": [
    {
     "name": "stdout",
     "output_type": "stream",
     "text": [
      "Estimating Square\n",
      "Estimating Triangle\n",
      "Estimating Cube\n",
      "Finished estimating\n"
     ]
    }
   ],
   "source": [
    "print(\"Estimating Square\", flush=True)\n",
    "qsp_circ_square = estimate_qsp(H_square, timesteps, required_precision, \"QSP/square_circuits/\", hamiltonian_name=\"square\")\n",
    "print(\"Estimating Triangle\", flush=True)\n",
    "qsp_circ_triangle = estimate_qsp(H_triangle, timesteps, required_precision, \"QSP/triangle_circuits/\", hamiltonian_name=\"triangle\")\n",
    "print(\"Estimating Cube\", flush=True)\n",
    "qsp_circ_cube = estimate_qsp(H_cube, timesteps, required_precision, \"QSP/cube_circuits/\", hamiltonian_name=\"cube\")\n",
    "print(\"Finished estimating\", flush=True)"
   ]
  },
  {
   "cell_type": "markdown",
   "id": "6eeb2af2-d380-42bb-bc5f-f0e331398087",
   "metadata": {},
   "source": [
    "# More complicated Hamiltonian\n",
    "There are a few ways to make the simulation task more challenging and more application relevant.\n",
    "The Kitaev honeycomb model is hypothesized to be a good model for the structure of many materials (see for example [here](https://www.sciencedirect.com/science/article/pii/S0370157321004051)).  This model is appealing for quantum simulation purposes because while the behavior in the infinite time regime is [understood](https://www.cambridge.org/core/books/introduction-to-topological-quantum-computation/kitaevs-honeycomb-lattice-model/85E968DD7C54F8062C4EAF5394DAAAF6), the behavior with minor perturbations to the model or the dynamics of the model are not so well [understood](https://courses.physics.illinois.edu/phys598PTD/fa2013/L26.pdf).  The Kitaev honeycomb model consists of directionally defined $XX$, $YY$, and $ZZ$ couplings on a honeycomb lattice.  These assignments are denoted in the plot below by 'X', 'Y', or 'Z' respectively."
   ]
  },
  {
   "cell_type": "code",
   "execution_count": 13,
   "id": "7c2dd2b5-b8f7-409b-9a87-50cecd2a9f9c",
   "metadata": {},
   "outputs": [
    {
     "data": {
      "image/png": "[encoded data removed]",
      "text/plain": [
       "<Figure size 432x288 with 1 Axes>"
      ]
     },
     "metadata": {},
     "output_type": "display_data"
    }
   ],
   "source": [
    "def assign_hexagon_labels(g):\n",
    "    for n1, n2 in g.edges:\n",
    "        #start by making sure that the edges are ordered correctly\n",
    "        r1,c1 = n1\n",
    "        r2,c2 = n2\n",
    "        if r2 - r1 < 0 or c2 - c1 < 0:\n",
    "            swap_r2 = r1\n",
    "            swap_c2 = c1\n",
    "            r1 = r2\n",
    "            c1 = c2\n",
    "            r2 = swap_r2\n",
    "            c2 = swap_c2\n",
    "        \n",
    "        #now that they are ordered correctly, we can assign labels\n",
    "        label = ''\n",
    "        if c1 == c2:\n",
    "            label = 'Z'\n",
    "        elif (((r1 % 2) + (c1 % 2)) % 2 == 0):#apparently you can differentiate X and Y labels based off nx's node label parity.  Huh.\n",
    "            label = 'Y'\n",
    "        else:\n",
    "            label = 'X'\n",
    "        \n",
    "        g[n1][n2]['label'] = label\n",
    "\n",
    "g_hexagon = nx.generators.lattice.hexagonal_lattice_graph(3,3)\n",
    "pos = nx.get_node_attributes(g_hexagon, 'pos')\n",
    "assign_hexagon_labels(g_hexagon)\n",
    "edge_labels = dict([((n1, n2), d['label']) for n1, n2, d in g_hexagon.edges(data=True)]);\n",
    "nx.draw(g_hexagon, pos)\n",
    "nx.draw_networkx_edge_labels(g_hexagon, pos,edge_labels = edge_labels);"
   ]
  },
  {
   "cell_type": "markdown",
   "id": "004a4862-23ed-43b1-ab8e-83b46985b721",
   "metadata": {},
   "source": [
    "From this graph we can generate the Hamiltonian\n",
    "\\begin{equation*}\n",
    "H_{\\text{Kitaev}} = \\sum_{(i,j) \\in X \\text{ edges}} J_{i,j} \\sigma_i^x \\sigma_j^x + \\sum_{(i,j) \\in Y \\text{ edges}} J_{i,j} \\sigma_i^y \\sigma_j^y + \\sum_{(i,j) \\in Z \\text{ edges}} J_{i,j} \\sigma_i^z \\sigma_j^z\n",
    "\\end{equation*}"
   ]
  },
  {
   "cell_type": "code",
   "execution_count": 14,
   "id": "99de221e-bbed-476f-b5b0-4332f1cfa4a7",
   "metadata": {},
   "outputs": [],
   "source": [
    "def nx_kitaev_terms(g, p):\n",
    "    H = []\n",
    "    n = len(g.nodes)\n",
    "    for (n1,n2,d) in g.edges(data=True):\n",
    "        label = d['label']\n",
    "        weight = 1 if random.random() < p else -1\n",
    "        string = n*'I' \n",
    "        for i in range(len(g)):\n",
    "            if i == n1 or i == n2:\n",
    "                string = string[:i] + label + string[i+1:]\n",
    "            else:\n",
    "                pass\n",
    "        H.append((string,weight))\n",
    "    return H\n",
    "\n",
    "def generate_kitaev_hamiltonian(lattice_size, weight_prob=1):\n",
    "    g = nx.generators.lattice.hexagonal_lattice_graph(lattice_size,lattice_size)\n",
    "    assign_hexagon_labels(g)\n",
    "    g = flatten_nx_graph(g)\n",
    "    H = nx_kitaev_terms(g, weight_prob)\n",
    "    return H"
   ]
  },
  {
   "cell_type": "code",
   "execution_count": 15,
   "id": "45ec26c4-376f-4759-b58b-737c546640f1",
   "metadata": {},
   "outputs": [
    {
     "name": "stdout",
     "output_type": "stream",
     "text": [
      "Estimating Kitaev\n",
      "Finished Estimating\n"
     ]
    }
   ],
   "source": [
    "lattice_size_kitaev = 32\n",
    "#lattice_size_kitaev = 3\n",
    "kitaev_hamiltonian = generate_kitaev_hamiltonian(lattice_size_kitaev)\n",
    "\n",
    "timesteps=1000\n",
    "required_precision   = 1e-16\n",
    "H_kitaev = pyH(kitaev_hamiltonian)\n",
    "print(\"Estimating Kitaev\", flush=True)\n",
    "qsp_circ_kitaev = estimate_qsp(H_kitaev, timesteps, required_precision, \"QSP/kitaev_circuits/\", hamiltonian_name=\"kitaev\")\n",
    "print(\"Finished Estimating\", flush=True)"
   ]
  },
  {
   "cell_type": "code",
   "execution_count": 16,
   "id": "5f09fc3a-d5a0-4540-b431-e9ca26c52907",
   "metadata": {},
   "outputs": [],
   "source": [
    "def assign_directional_triangular_labels(g,lattice_size): \n",
    "    for i in range(lattice_size - 1):\n",
    "        for j in range(lattice_size - 1):\n",
    "            g[(i,j)][(i+1,j)]['label'] = 'Z'\n",
    "            g[(i,j)][(i,j+1)]['label'] = 'X'\n",
    "            g[(i,j)][i+1,j+1]['label'] = 'Y'\n",
    "        g[(i,lattice_size-1)][(i+1,lattice_size-1)]['label'] = 'Z'\n",
    "    for j in range(lattice_size - 1):\n",
    "        g[(lattice_size-1,j)][(lattice_size-1,j+1)]['label'] = 'X'\n",
    "\n",
    "def generate_directional_triangular_hamiltonian(lattice_size, weight_prob = 1):\n",
    "    g = nx_triangle_lattice(lattice_size)\n",
    "    assign_directional_triangular_labels(g,lattice_size)\n",
    "    g = flatten_nx_graph(g)\n",
    "    H = nx_kitaev_terms(g, weight_prob)\n",
    "    return H\n",
    "\n",
    "g_triangle = nx_triangle_lattice(3)\n",
    "assign_directional_triangular_labels(g_triangle,3)"
   ]
  },
  {
   "cell_type": "code",
   "execution_count": 17,
   "id": "00a1b407-b45a-43bf-a0c1-856fe51aa0ec",
   "metadata": {},
   "outputs": [
    {
     "data": {
      "image/png": "[encoded data removed]",
      "text/plain": [
       "<Figure size 432x288 with 1 Axes>"
      ]
     },
     "metadata": {},
     "output_type": "display_data"
    }
   ],
   "source": [
    "g_triangle = nx_triangle_lattice(3)\n",
    "assign_directional_triangular_labels(g_triangle,3)\n",
    "pos = nx.spring_layout(g_triangle)\n",
    "edge_labels = dict([((n1, n2), d['label']) for n1, n2, d in g_triangle.edges(data=True)]);\n",
    "nx.draw(g_triangle,pos)\n",
    "nx.draw_networkx_edge_labels(g_triangle,pos,edge_labels = edge_labels);"
   ]
  },
  {
   "cell_type": "code",
   "execution_count": 18,
   "id": "baa4cf7c-490f-420f-b402-df68739c8b51",
   "metadata": {},
   "outputs": [
    {
     "name": "stdout",
     "output_type": "stream",
     "text": [
      "Estimating Directional Triangle\n",
      "Finished Estimating\n"
     ]
    }
   ],
   "source": [
    "lattice_size_directional_triangle = 32\n",
    "#lattice_size_directional_triangle = 3\n",
    "directional_triangle_hamiltonian = generate_directional_triangular_hamiltonian(lattice_size_directional_triangle)\n",
    "\n",
    "timesteps=1000\n",
    "required_precision   = 1e-16\n",
    "timestep_of_interest = 1 # sim_time\n",
    "H_directional_triangle = pyH(directional_triangle_hamiltonian)\n",
    "\n",
    "print(\"Estimating Directional Triangle\", flush=True)\n",
    "qsp_circ_directional_triangle = estimate_qsp(H_directional_triangle, timesteps, required_precision, \"QSP/directional_triangle_circuits/\", hamiltonian_name=\"directional_triangle\")\n",
    "print(\"Finished Estimating\", flush=True)"
   ]
  },
  {
   "cell_type": "markdown",
   "id": "c72b2b05-0464-4b46-9f03-cd56941ba609",
   "metadata": {},
   "source": [
    "# Trotter imeplementations\n",
    "Now we can do all of this again for second order Suzuki Trotter rather than QSP.  Below we will see how to construct a single trotter step of second order Suzuki-Trotter for these hamiltonians along with a loose upper bound for the number of trotter steps required.  According to the [documentation](https://quantumai.google/reference/python/openfermion/circuits/error_bound) from openfermion the trotter step estimate for the second order Suzuki-Trotter expansion."
   ]
  },
  {
   "cell_type": "code",
   "execution_count": 19,
   "id": "9d384532-4feb-4026-9578-b531f10876c5",
   "metadata": {},
   "outputs": [],
   "source": [
    "def find_hamiltonian_ordering(of_hamiltonian):\n",
    "    \"\"\"\n",
    "    Function to generate a near optimal term ordering for trotterization of transverse field Ising Models.\n",
    "    This would need to be modified if there were multi-qubit interactions that were not just ZZ\n",
    "    \"\"\"\n",
    "    #ordering hamiltonian terms by performing edge coloring to make optimal trotter ordering\n",
    "    #assuming that any 2 body interactions are ZZ\n",
    "    sorted_terms = sorted(list(of_hamiltonian.terms.keys()))\n",
    "    sorted_terms.sort(key=lambda x: len(x) * 100 + ord(x[0][1])) #Z and X get translated to 90 and 88 respectively, multiplying by 100 ensures interacting term weight is considered\n",
    "    one_body_terms_ordered = list(filter(lambda x: len(x) == 1, sorted_terms))\n",
    "    two_body_terms = list(filter(lambda x: len(x) == 2, sorted_terms))\n",
    "    \n",
    "    #assigning edge colorings to order two body terms\n",
    "    g = nx.Graph()\n",
    "    for term in two_body_terms:\n",
    "        edge = (term[0][0], term[1][0])\n",
    "        g.add_edge(*edge)\n",
    "    edge_coloring = nx.greedy_color(nx.line_graph(g))\n",
    "    nx.set_edge_attributes(g, edge_coloring, \"color\")\n",
    "    colors = list()\n",
    "    for (i,term) in enumerate(two_body_terms):\n",
    "        n1,n2 = (term[0][0], term[1][0])\n",
    "        color = g.edges[n1,n2]['color']\n",
    "        term = (*term, color)\n",
    "        two_body_terms[i] = term\n",
    "    \n",
    "    two_body_terms.sort(key=lambda x: x[2])\n",
    "    two_body_terms_ordered = list()\n",
    "    for (i,term) in enumerate(two_body_terms):\n",
    "        new_item = (term[0],term[1])\n",
    "        two_body_terms_ordered.append((term[0], term[1]))\n",
    "    return one_body_terms_ordered + two_body_terms_ordered\n",
    "\n",
    "def estimate_trotter(openfermion_hamiltonian,timesteps, energy_precision, outdir, hamiltonian_name=\"hamiltonian\", write_circuits=False):\n",
    "    nsteps = openfermion.circuits.trotter_steps_required(trotter_error_bound = openfermion.circuits.error_bound(list(openfermion_hamiltonian.get_operators()),tight=False),\n",
    "                                                time = timesteps, \n",
    "                                                energy_precision = energy_precision)\n",
    "    term_ordering = find_hamiltonian_ordering(openfermion_hamiltonian)\n",
    "    trotter_circuit_of = openfermion.circuits.trotter_exp_to_qgates.trotterize_exp_qubop_to_qasm(openfermion_hamiltonian, trotter_order=2, evolution_time=timesteps/nsteps, term_ordering=term_ordering)\n",
    "    qasm_str_trotter = open_fermion_to_qasm(openfermion.count_qubits(openfermion_hamiltonian), trotter_circuit_of)\n",
    "    trotter_circuit_qasm = qasm_import.circuit_from_qasm(qasm_str_trotter)\n",
    "    cpt_trotter = clifford_plus_t_direct_transform(trotter_circuit_qasm)\n",
    "    \n",
    "    #writing the the higher level trotter circuit to a file as well as the clifford + T circuit\n",
    "    if not os.path.exists(outdir):\n",
    "        os.makedirs(outdir)\n",
    "    \n",
    "    if write_circuits:\n",
    "        outfile_qasm_decomposed = outdir + \"trotter_circuit_\" + hamiltonian_name + \".qasm\" \n",
    "        outfile_qasm_cpt = outdir + \"trotter_cpt_\" + hamiltonian_name + \".qasm\"\n",
    "        with open(outfile_qasm_decomposed, 'w') as f:\n",
    "            print_to_openqasm(f, trotter_circuit_qasm, qubits=trotter_circuit_qasm.all_qubits())\n",
    "        with open(outfile_qasm_cpt, 'w') as f:\n",
    "            print_to_openqasm(f, cpt_trotter, qubits=cpt_trotter.all_qubits())\n",
    "        \n",
    "    outfile_data = outdir + \"trotter_\" + hamiltonian_name + \".dat\"\n",
    "    gate_count = count_gates(cpt_trotter)\n",
    "    t_count = count_T_gates(cpt_trotter)\n",
    "    t_depth = get_T_depth(cpt_trotter)\n",
    "    t_depth_wire = get_T_depth_wire(cpt_trotter)\n",
    "    with open(outfile_data, 'w') as f:\n",
    "        f.write(\"Logical Qubit Count:\"+str(len(cpt_trotter.all_qubits()))+\"\\n\")\n",
    "        f.write(\"Number of Trotter Steps Required (Loose Upper Bound):\"+ str(nsteps) +\"\\n\")\n",
    "        f.write(\"Total T Depth:\"+str(t_depth * nsteps)+\"\\n\")\n",
    "        f.write(\"Maximum T Count on a Single Wire:\"+str(t_depth_wire * nsteps)+\"\\n\")\n",
    "        f.write(\"Single Step Gate Count:\"+str(gate_count)+\"\\n\")\n",
    "        f.write(\"Single Step Gate Depth:\"+str(len(cpt_trotter))+\"\\n\")\n",
    "        f.write(\"Single Step T Count:\"+str(t_count)+\"\\n\")\n",
    "        f.write(\"Single Step T Depth:\"+str(t_depth)+\"\\n\")\n",
    "        f.write(\"Single Step Maximum T Count on a Single Wire:\"+str(t_depth_wire)+\"\\n\")\n",
    "        f.write(\"Single Step Clifford Count:\"+str(gate_count - t_count)+\"\\n\")\n",
    "    \n",
    "    return cpt_trotter"
   ]
  },
  {
   "cell_type": "code",
   "execution_count": 20,
   "id": "34b95e4f-f45d-4101-ade3-c500fd8be257",
   "metadata": {},
   "outputs": [],
   "source": [
    "##Translating the hamiltonians from above into a form usable by openfermion\n",
    "openfermion_hamiltonian_square = pyliqtr_hamiltonian_to_openfermion_qubit_operator(H_square)\n",
    "openfermion_hamiltonian_triangle = pyliqtr_hamiltonian_to_openfermion_qubit_operator(H_triangle)\n",
    "openfermion_hamiltonian_cube = pyliqtr_hamiltonian_to_openfermion_qubit_operator(H_cube)\n",
    "openfermion_hamiltonian_kitaev = pyliqtr_hamiltonian_to_openfermion_qubit_operator(H_kitaev)\n",
    "openfermion_hamiltonian_directional_triangle = pyliqtr_hamiltonian_to_openfermion_qubit_operator(H_directional_triangle)"
   ]
  },
  {
   "cell_type": "code",
   "execution_count": 21,
   "id": "f1fceb25-e1c6-46fd-9290-32eb5abe620b",
   "metadata": {},
   "outputs": [],
   "source": [
    "#defining precision required for the trotterized circuit\n",
    "energy_precision = 1e-6\n",
    "timesteps=1000"
   ]
  },
  {
   "cell_type": "markdown",
   "id": "ba4875f2-fc0f-4ade-a1e9-0d4823fc98eb",
   "metadata": {},
   "source": [
    "## Estimates\n",
    "Trotterizing the Hamiltonians and writing estimates to files"
   ]
  },
  {
   "cell_type": "code",
   "execution_count": 22,
   "id": "0dbcf4e9-b48a-486c-bea1-bf4428201a90",
   "metadata": {},
   "outputs": [
    {
     "name": "stdout",
     "output_type": "stream",
     "text": [
      "Estimating Square\n",
      "Estimating Triangle\n",
      "Estimating Cube\n",
      "Estimating Kitaev\n",
      "Estimating Directional Triangle\n",
      "Finished with estimates\n"
     ]
    }
   ],
   "source": [
    "print(\"Estimating Square\", flush=True)\n",
    "cpt_trotter_square = estimate_trotter(openfermion_hamiltonian_square, timesteps, energy_precision, \"Trotter/square_circuits/\", hamiltonian_name=\"square\")\n",
    "print(\"Estimating Triangle\", flush=True)\n",
    "cpt_trotter_triangle = estimate_trotter(openfermion_hamiltonian_triangle, timesteps, energy_precision, \"Trotter/triangle_circuits/\", hamiltonian_name=\"triangle\")\n",
    "print(\"Estimating Cube\", flush=True)\n",
    "cpt_trotter_cube = estimate_trotter(openfermion_hamiltonian_cube, timesteps, energy_precision, \"Trotter/cube_circuits/\", hamiltonian_name=\"cube\")\n",
    "print(\"Estimating Kitaev\", flush=True)\n",
    "cpt_trotter_kitaev = estimate_trotter(openfermion_hamiltonian_kitaev, timesteps, energy_precision, \"Trotter/kitaev_circuits/\", hamiltonian_name=\"kitaev\")\n",
    "print(\"Estimating Directional Triangle\", flush=True)\n",
    "cpt_trotter_directional_triangle = estimate_trotter(openfermion_hamiltonian_directional_triangle, timesteps, energy_precision, \"Trotter/directional_triangle_circuits/\", hamiltonian_name=\"directional_triangle\")\n",
    "print(\"Finished with estimates\", flush=True)"
   ]
  },
  {
   "cell_type": "code",
   "execution_count": 23,
   "id": "9586f806-d9cb-41d0-8045-590d55509a84",
   "metadata": {},
   "outputs": [],
   "source": [
    "figdir = \"Trotter/Figures/\"\n",
    "widthdir = \"Trotter/Widths/\"\n",
    "if not os.path.exists(figdir):\n",
    "    os.makedirs(figdir)\n",
    "if not os.path.exists(widthdir):\n",
    "    os.makedirs(widthdir)"
   ]
  },
  {
   "cell_type": "code",
   "execution_count": 24,
   "id": "97f2fe81-0741-4b4e-9702-6133d01ad86a",
   "metadata": {},
   "outputs": [
    {
     "data": {
      "image/png": "[encoded data removed]",
      "text/plain": [
       "<Figure size 432x288 with 1 Axes>"
      ]
     },
     "metadata": {
      "needs_background": "light"
     },
     "output_type": "display_data"
    }
   ],
   "source": [
    "histogram_trotter_square = plot_T_step_histogram(cpt_trotter_square)\n",
    "plt.title(\"trotter square\")\n",
    "plt.xlabel(\"T Width\")\n",
    "plt.ylabel(\"Count\")\n",
    "plt.savefig(figdir + \"trotter_cpt_t_width_histogram_square.pdf\")\n",
    "\n",
    "df_histogram_trotter_square = pd.DataFrame({\"bin\": histogram_trotter_square[1][:-1], \\\n",
    "                                            \"count\": histogram_trotter_square[0]})\n",
    "df_histogram_trotter_square.to_csv(widthdir + \"widths_square.csv\", sep=\",\", index=False)"
   ]
  },
  {
   "cell_type": "code",
   "execution_count": 25,
   "id": "98cf6cfe-6013-432b-b0ef-05ec1ce938e5",
   "metadata": {},
   "outputs": [
    {
     "data": {
      "image/png": "[encoded data removed]",
      "text/plain": [
       "<Figure size 432x288 with 1 Axes>"
      ]
     },
     "metadata": {
      "needs_background": "light"
     },
     "output_type": "display_data"
    }
   ],
   "source": [
    "histogram_trotter_triangle = plot_T_step_histogram(cpt_trotter_triangle)\n",
    "plt.title(\"trotter triangle\")\n",
    "plt.xlabel(\"T Width\")\n",
    "plt.ylabel(\"count\")\n",
    "plt.savefig(figdir + \"trotter_cpt_t_width_histogram_triangle.pdf\")\n",
    "\n",
    "df_histogram_trotter_triangle = pd.DataFrame({\"bin\": histogram_trotter_triangle[1][:-1], \\\n",
    "                                            \"count\": histogram_trotter_triangle[0]})\n",
    "df_histogram_trotter_triangle.to_csv(widthdir + \"widths_triangle.csv\", sep=\",\", index=False)"
   ]
  },
  {
   "cell_type": "code",
   "execution_count": 26,
   "id": "51c4ebd5-c444-41dd-8e23-5692ad216006",
   "metadata": {},
   "outputs": [
    {
     "data": {
      "image/png": "[encoded data removed]",
      "text/plain": [
       "<Figure size 432x288 with 1 Axes>"
      ]
     },
     "metadata": {
      "needs_background": "light"
     },
     "output_type": "display_data"
    }
   ],
   "source": [
    "histogram_trotter_cube = plot_T_step_histogram(cpt_trotter_cube)\n",
    "plt.title(\"trotter cube\")\n",
    "plt.xlabel(\"T Width\")\n",
    "plt.ylabel(\"count\")\n",
    "plt.savefig(figdir + \"trotter_cpt_t_width_histogram_cube.pdf\")\n",
    "\n",
    "df_histogram_trotter_cube = pd.DataFrame({\"bin\": histogram_trotter_cube[1][:-1], \\\n",
    "                                            \"count\": histogram_trotter_cube[0]})\n",
    "df_histogram_trotter_cube.to_csv(widthdir + \"widths_cube.csv\", sep=\",\", index=False)"
   ]
  },
  {
   "cell_type": "code",
   "execution_count": 27,
   "id": "9dd0392d-3d1e-43fc-92e5-da82d1437a2a",
   "metadata": {},
   "outputs": [
    {
     "data": {
      "image/png": "[encoded data removed]",
      "text/plain": [
       "<Figure size 432x288 with 1 Axes>"
      ]
     },
     "metadata": {
      "needs_background": "light"
     },
     "output_type": "display_data"
    }
   ],
   "source": [
    "histogram_trotter_kitaev = plot_T_step_histogram(cpt_trotter_kitaev)\n",
    "plt.title(\"trotter kitaev\")\n",
    "plt.xlabel(\"T Width\")\n",
    "plt.ylabel(\"Count\")\n",
    "plt.savefig(figdir + \"trotter_cpt_t_width_histogram_kitaev.pdf\")\n",
    "\n",
    "df_histogram_trotter_kitaev = pd.DataFrame({\"bin\": histogram_trotter_kitaev[1][:-1], \\\n",
    "                                            \"count\": histogram_trotter_kitaev[0]})\n",
    "df_histogram_trotter_kitaev.to_csv(widthdir + \"widths_kitaev.csv\", sep=\",\", index=False)"
   ]
  },
  {
   "cell_type": "code",
   "execution_count": 28,
   "id": "a345d7cd-2f67-48c4-8c76-4bd991f203e3",
   "metadata": {},
   "outputs": [
    {
     "data": {
      "image/png": "[encoded data removed]",
      "text/plain": [
       "<Figure size 432x288 with 1 Axes>"
      ]
     },
     "metadata": {
      "needs_background": "light"
     },
     "output_type": "display_data"
    }
   ],
   "source": [
    "histogram_trotter_directional_triangle = plot_T_step_histogram(cpt_trotter_directional_triangle)\n",
    "plt.title(\"trotter directional_triangle\")\n",
    "plt.xlabel(\"T Width\")\n",
    "plt.ylabel(\"Count\")\n",
    "plt.savefig(figdir + \"trotter_cpt_t_width_histogram_directional_triangle.pdf\")\n",
    "\n",
    "df_histogram_trotter_directional_triangle = pd.DataFrame({\"bin\": histogram_trotter_directional_triangle[1][:-1], \\\n",
    "                                                          \"count\": histogram_trotter_directional_triangle[0]})\n",
    "df_histogram_trotter_directional_triangle.to_csv(widthdir + \"widths_directional_triangle.csv\", sep=\",\", index=False)"
   ]
  },
  {
   "cell_type": "code",
   "execution_count": 29,
   "id": "79f52ea8-0d7a-4074-856b-153c29162e24",
   "metadata": {},
   "outputs": [
    {
     "name": "stdout",
     "output_type": "stream",
     "text": [
      "Total Notebook Runtime: 2413.169842057\n"
     ]
    }
   ],
   "source": [
    "t_final = time.perf_counter()\n",
    "print(\"Total Notebook Runtime: \" + str(t_final))"
   ]
  },
  {
   "cell_type": "code",
   "execution_count": null,
   "id": "a97bb917-466e-4a75-b554-e413278ba830",
   "metadata": {},
   "outputs": [],
   "source": []
  }
 ],
 "metadata": {
  "kernelspec": {
   "display_name": "Python 3",
   "language": "python",
   "name": "python3"
  },
  "language_info": {
   "codemirror_mode": {
    "name": "ipython",
    "version": 3
   },
   "file_extension": ".py",
   "mimetype": "text/x-python",
   "name": "python",
   "nbconvert_exporter": "python",
   "pygments_lexer": "ipython3",
   "version": "3.8.8"
  }
 },
 "nbformat": 4,
 "nbformat_minor": 5
}
